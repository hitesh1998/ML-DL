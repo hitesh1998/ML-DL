{
 "cells": [
  {
   "cell_type": "markdown",
   "metadata": {},
   "source": [
    "Text Summarization with Gensim\n",
    "i used pre trained model"
   ]
  },
  {
   "cell_type": "code",
   "execution_count": 90,
   "metadata": {},
   "outputs": [],
   "source": [
    "import numpy as np\n",
    "import pandas as pd"
   ]
  },
  {
   "cell_type": "code",
   "execution_count": 72,
   "metadata": {},
   "outputs": [],
   "source": [
    "#loading data set\n",
    "df= pd.read_excel('TASK.xlsx')"
   ]
  },
  {
   "cell_type": "code",
   "execution_count": 73,
   "metadata": {},
   "outputs": [],
   "source": [
    "#changing the coloumn name\n",
    "df=df.drop('TEST DATASET',1)\n",
    "df=df.iloc[1:]\n",
    "df=df.rename(columns={\"Unnamed: 1\": \"Introduction\"})\n",
    "df.reset_index(inplace=True)"
   ]
  },
  {
   "cell_type": "code",
   "execution_count": 74,
   "metadata": {},
   "outputs": [],
   "source": [
    "\n",
    "#importing the important library for Text Summarization with Gensim\n",
    "from gensim.summarization.summarizer import summarize \n",
    "from gensim.summarization import keywords \n",
    "texts=df['Introduction'].values"
   ]
  },
  {
   "cell_type": "code",
   "execution_count": 91,
   "metadata": {},
   "outputs": [],
   "source": [
    "final_summ=[]\n",
    "for i in range(len(texts)):\n",
    "    summary=[]\n",
    "    text=texts[i]\n",
    "    #les than 3 sentences text put same\n",
    "    if len(text)<150:\n",
    "        final_summ.append(text)\n",
    "    else:\n",
    "#Ratio:-->>\n",
    "#Number between 0 and 1 that determines the proportion of the number of\n",
    "#sentences of the original text to be chosen for the summary\n",
    "# we can chang it according to the user requirement\n",
    "        summ=summarize(text,ratio=0.2)\n",
    "        summary.append(summ)\n",
    "        final_summ.append(summ)"
   ]
  },
  {
   "cell_type": "code",
   "execution_count": 92,
   "metadata": {},
   "outputs": [],
   "source": [
    "# convert the data frame and \n",
    "final_df=pd.DataFrame(np.array(final_summ), columns=['Summary'])"
   ]
  },
  {
   "cell_type": "code",
   "execution_count": 93,
   "metadata": {},
   "outputs": [],
   "source": [
    "final_df =pd.concat([df,final_df],1).drop('index',1)"
   ]
  },
  {
   "cell_type": "code",
   "execution_count": 94,
   "metadata": {},
   "outputs": [
    {
     "data": {
      "text/plain": [
       "(\"Ambrodil Syrup is used for treating various respiratory tract disorders associated with excessive mucus. It works by thinning and loosens mucus in the nose, windpipe and lungs and make it easier to cough out.Ambrodil Syrup should be taken with food. For better results, it is suggested to take it at the same time every day.\\xa0 The dose and how often you take it depends on what you are taking it for. Your doctor will decide how much you need to improve your symptoms.\\xa0 It is advised not to use it for more than 14 days without doctor consultation.The most common side effects of this medicine include vomiting, nausea, and stomach upset. Talk to your doctor if you are worried about side effects or they would not go away. Generally, it is advised not to take alcohol while on treatment.Before taking this medicine, tell your doctor if you have liver or kidney disease or if you have stomach problems. Your doctor should also know about all other medicines you are taking as many of these may make this medicine less effective or change the way it works. You must take doctor's advice before using this medicine if you are pregnant or breastfeeding.\",\n",
       " 'It is advised not to use it for more than 14 days without doctor consultation.The most common side effects of this medicine include vomiting, nausea, and stomach upset.\\nGenerally, it is advised not to take alcohol while on treatment.Before taking this medicine, tell your doctor if you have liver or kidney disease or if you have stomach problems.')"
      ]
     },
     "execution_count": 94,
     "metadata": {},
     "output_type": "execute_result"
    }
   ],
   "source": [
    "final_df['Introduction'][1],final_df['Summary'][1]"
   ]
  },
  {
   "cell_type": "code",
   "execution_count": 95,
   "metadata": {},
   "outputs": [
    {
     "data": {
      "text/html": [
       "<div>\n",
       "<style scoped>\n",
       "    .dataframe tbody tr th:only-of-type {\n",
       "        vertical-align: middle;\n",
       "    }\n",
       "\n",
       "    .dataframe tbody tr th {\n",
       "        vertical-align: top;\n",
       "    }\n",
       "\n",
       "    .dataframe thead th {\n",
       "        text-align: right;\n",
       "    }\n",
       "</style>\n",
       "<table border=\"1\" class=\"dataframe\">\n",
       "  <thead>\n",
       "    <tr style=\"text-align: right;\">\n",
       "      <th></th>\n",
       "      <th>Introduction</th>\n",
       "      <th>Summary</th>\n",
       "    </tr>\n",
       "  </thead>\n",
       "  <tbody>\n",
       "    <tr>\n",
       "      <th>0</th>\n",
       "      <td>Acnesol Gel is an antibiotic that fights bacte...</td>\n",
       "      <td>This medicine works by attacking the bacteria ...</td>\n",
       "    </tr>\n",
       "    <tr>\n",
       "      <th>1</th>\n",
       "      <td>Ambrodil Syrup is used for treating various re...</td>\n",
       "      <td>It is advised not to use it for more than 14 d...</td>\n",
       "    </tr>\n",
       "    <tr>\n",
       "      <th>2</th>\n",
       "      <td>Augmentin 625 Duo Tablet is a penicillin-type ...</td>\n",
       "      <td>Augmentin 625 Duo Tablet is a penicillin-type ...</td>\n",
       "    </tr>\n",
       "    <tr>\n",
       "      <th>3</th>\n",
       "      <td>Azithral 500 Tablet is an antibiotic used to t...</td>\n",
       "      <td>Pregnant or breastfeeding women should consult...</td>\n",
       "    </tr>\n",
       "    <tr>\n",
       "      <th>4</th>\n",
       "      <td>Alkasol Oral Solution is a medicine used in th...</td>\n",
       "      <td>It stops the production of uric acid in the bo...</td>\n",
       "    </tr>\n",
       "    <tr>\n",
       "      <th>...</th>\n",
       "      <td>...</td>\n",
       "      <td>...</td>\n",
       "    </tr>\n",
       "    <tr>\n",
       "      <th>995</th>\n",
       "      <td>Azapure Tablet belongs to a group of medicines...</td>\n",
       "      <td>If you stop taking it, you may increase the ch...</td>\n",
       "    </tr>\n",
       "    <tr>\n",
       "      <th>996</th>\n",
       "      <td>Arimidex 1mg Tablet  is used alone or with oth...</td>\n",
       "      <td>There may be ways of reducing or preventing th...</td>\n",
       "    </tr>\n",
       "    <tr>\n",
       "      <th>997</th>\n",
       "      <td>Arpimune ME 100mg Capsule is used to prevent y...</td>\n",
       "      <td>Stopping treatment may increase the risk of yo...</td>\n",
       "    </tr>\n",
       "    <tr>\n",
       "      <th>998</th>\n",
       "      <td>Amlodac CH Tablet is a combination medicine us...</td>\n",
       "      <td>Amlodac CH Tablet is a combination medicine us...</td>\n",
       "    </tr>\n",
       "    <tr>\n",
       "      <th>999</th>\n",
       "      <td>Angizem CD 120 Capsule ER is used to treat ang...</td>\n",
       "      <td>Angizem CD 120 Capsule ER is used to treat ang...</td>\n",
       "    </tr>\n",
       "  </tbody>\n",
       "</table>\n",
       "<p>1000 rows × 2 columns</p>\n",
       "</div>"
      ],
      "text/plain": [
       "                                          Introduction  \\\n",
       "0    Acnesol Gel is an antibiotic that fights bacte...   \n",
       "1    Ambrodil Syrup is used for treating various re...   \n",
       "2    Augmentin 625 Duo Tablet is a penicillin-type ...   \n",
       "3    Azithral 500 Tablet is an antibiotic used to t...   \n",
       "4    Alkasol Oral Solution is a medicine used in th...   \n",
       "..                                                 ...   \n",
       "995  Azapure Tablet belongs to a group of medicines...   \n",
       "996  Arimidex 1mg Tablet  is used alone or with oth...   \n",
       "997  Arpimune ME 100mg Capsule is used to prevent y...   \n",
       "998  Amlodac CH Tablet is a combination medicine us...   \n",
       "999  Angizem CD 120 Capsule ER is used to treat ang...   \n",
       "\n",
       "                                               Summary  \n",
       "0    This medicine works by attacking the bacteria ...  \n",
       "1    It is advised not to use it for more than 14 d...  \n",
       "2    Augmentin 625 Duo Tablet is a penicillin-type ...  \n",
       "3    Pregnant or breastfeeding women should consult...  \n",
       "4    It stops the production of uric acid in the bo...  \n",
       "..                                                 ...  \n",
       "995  If you stop taking it, you may increase the ch...  \n",
       "996  There may be ways of reducing or preventing th...  \n",
       "997  Stopping treatment may increase the risk of yo...  \n",
       "998  Amlodac CH Tablet is a combination medicine us...  \n",
       "999  Angizem CD 120 Capsule ER is used to treat ang...  \n",
       "\n",
       "[1000 rows x 2 columns]"
      ]
     },
     "execution_count": 95,
     "metadata": {},
     "output_type": "execute_result"
    }
   ],
   "source": [
    "final_df"
   ]
  },
  {
   "cell_type": "code",
   "execution_count": 80,
   "metadata": {},
   "outputs": [
    {
     "data": {
      "text/html": [
       "<div>\n",
       "<style scoped>\n",
       "    .dataframe tbody tr th:only-of-type {\n",
       "        vertical-align: middle;\n",
       "    }\n",
       "\n",
       "    .dataframe tbody tr th {\n",
       "        vertical-align: top;\n",
       "    }\n",
       "\n",
       "    .dataframe thead th {\n",
       "        text-align: right;\n",
       "    }\n",
       "</style>\n",
       "<table border=\"1\" class=\"dataframe\">\n",
       "  <thead>\n",
       "    <tr style=\"text-align: right;\">\n",
       "      <th></th>\n",
       "      <th>index</th>\n",
       "      <th>Introduction</th>\n",
       "    </tr>\n",
       "  </thead>\n",
       "  <tbody>\n",
       "    <tr>\n",
       "      <th>0</th>\n",
       "      <td>1</td>\n",
       "      <td>Acnesol Gel is an antibiotic that fights bacte...</td>\n",
       "    </tr>\n",
       "    <tr>\n",
       "      <th>1</th>\n",
       "      <td>2</td>\n",
       "      <td>Ambrodil Syrup is used for treating various re...</td>\n",
       "    </tr>\n",
       "    <tr>\n",
       "      <th>2</th>\n",
       "      <td>3</td>\n",
       "      <td>Augmentin 625 Duo Tablet is a penicillin-type ...</td>\n",
       "    </tr>\n",
       "    <tr>\n",
       "      <th>3</th>\n",
       "      <td>4</td>\n",
       "      <td>Azithral 500 Tablet is an antibiotic used to t...</td>\n",
       "    </tr>\n",
       "    <tr>\n",
       "      <th>4</th>\n",
       "      <td>5</td>\n",
       "      <td>Alkasol Oral Solution is a medicine used in th...</td>\n",
       "    </tr>\n",
       "    <tr>\n",
       "      <th>...</th>\n",
       "      <td>...</td>\n",
       "      <td>...</td>\n",
       "    </tr>\n",
       "    <tr>\n",
       "      <th>995</th>\n",
       "      <td>996</td>\n",
       "      <td>Azapure Tablet belongs to a group of medicines...</td>\n",
       "    </tr>\n",
       "    <tr>\n",
       "      <th>996</th>\n",
       "      <td>997</td>\n",
       "      <td>Arimidex 1mg Tablet  is used alone or with oth...</td>\n",
       "    </tr>\n",
       "    <tr>\n",
       "      <th>997</th>\n",
       "      <td>998</td>\n",
       "      <td>Arpimune ME 100mg Capsule is used to prevent y...</td>\n",
       "    </tr>\n",
       "    <tr>\n",
       "      <th>998</th>\n",
       "      <td>999</td>\n",
       "      <td>Amlodac CH Tablet is a combination medicine us...</td>\n",
       "    </tr>\n",
       "    <tr>\n",
       "      <th>999</th>\n",
       "      <td>1000</td>\n",
       "      <td>Angizem CD 120 Capsule ER is used to treat ang...</td>\n",
       "    </tr>\n",
       "  </tbody>\n",
       "</table>\n",
       "<p>1000 rows × 2 columns</p>\n",
       "</div>"
      ],
      "text/plain": [
       "     index                                       Introduction\n",
       "0        1  Acnesol Gel is an antibiotic that fights bacte...\n",
       "1        2  Ambrodil Syrup is used for treating various re...\n",
       "2        3  Augmentin 625 Duo Tablet is a penicillin-type ...\n",
       "3        4  Azithral 500 Tablet is an antibiotic used to t...\n",
       "4        5  Alkasol Oral Solution is a medicine used in th...\n",
       "..     ...                                                ...\n",
       "995    996  Azapure Tablet belongs to a group of medicines...\n",
       "996    997  Arimidex 1mg Tablet  is used alone or with oth...\n",
       "997    998  Arpimune ME 100mg Capsule is used to prevent y...\n",
       "998    999  Amlodac CH Tablet is a combination medicine us...\n",
       "999   1000  Angizem CD 120 Capsule ER is used to treat ang...\n",
       "\n",
       "[1000 rows x 2 columns]"
      ]
     },
     "execution_count": 80,
     "metadata": {},
     "output_type": "execute_result"
    }
   ],
   "source": [
    "df"
   ]
  },
  {
   "cell_type": "code",
   "execution_count": null,
   "metadata": {},
   "outputs": [],
   "source": []
  }
 ],
 "metadata": {
  "kernelspec": {
   "display_name": "Python 3",
   "language": "python",
   "name": "python3"
  },
  "language_info": {
   "codemirror_mode": {
    "name": "ipython",
    "version": 3
   },
   "file_extension": ".py",
   "mimetype": "text/x-python",
   "name": "python",
   "nbconvert_exporter": "python",
   "pygments_lexer": "ipython3",
   "version": "3.7.6"
  }
 },
 "nbformat": 4,
 "nbformat_minor": 4
}
