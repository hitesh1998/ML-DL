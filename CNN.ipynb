{
 "cells": [
  {
   "cell_type": "code",
   "execution_count": 1,
   "metadata": {},
   "outputs": [
    {
     "name": "stderr",
     "output_type": "stream",
     "text": [
      "Using TensorFlow backend.\n"
     ]
    }
   ],
   "source": [
    "from keras.models import Sequential\n",
    "from keras.layers import Conv2D\n",
    "from keras.layers import MaxPooling2D\n",
    "from keras.layers import Flatten\n",
    "from keras.layers import Dense"
   ]
  },
  {
   "cell_type": "code",
   "execution_count": 2,
   "metadata": {},
   "outputs": [],
   "source": [
    "classifier=Sequential()\n",
    "\n",
    "#Step 1 Convolution\n",
    "classifier.add(Conv2D(32,(3,3), input_shape=(64,64,3),activation='relu' ))"
   ]
  },
  {
   "cell_type": "code",
   "execution_count": 3,
   "metadata": {},
   "outputs": [],
   "source": [
    "## pooling \n",
    "classifier.add(MaxPooling2D(pool_size=(2,2)))"
   ]
  },
  {
   "cell_type": "code",
   "execution_count": 4,
   "metadata": {},
   "outputs": [],
   "source": [
    "# 2nd Convolution\n",
    "classifier.add(Conv2D(32,(3,3), activation='relu'))\n",
    "classifier.add(MaxPooling2D(pool_size=(2,2)))"
   ]
  },
  {
   "cell_type": "code",
   "execution_count": 5,
   "metadata": {},
   "outputs": [],
   "source": [
    "# Flattening\n",
    "\n",
    "classifier.add(Flatten())"
   ]
  },
  {
   "cell_type": "code",
   "execution_count": 6,
   "metadata": {},
   "outputs": [],
   "source": [
    "#Full Conection\n",
    "\n",
    "classifier.add(Dense(units=128,activation='relu'))\n",
    "classifier.add(Dense(units=1,activation='sigmoid'))"
   ]
  },
  {
   "cell_type": "code",
   "execution_count": 7,
   "metadata": {},
   "outputs": [],
   "source": [
    "# Compiling CNN\n",
    "classifier.compile(optimizer='adam',loss='binary_crossentropy',metrics=['accuracy'])"
   ]
  },
  {
   "cell_type": "code",
   "execution_count": 8,
   "metadata": {},
   "outputs": [],
   "source": [
    "# Part 2 - Fitting the CNN to the images\n",
    "\n",
    "from keras.preprocessing.image import ImageDataGenerator"
   ]
  },
  {
   "cell_type": "code",
   "execution_count": null,
   "metadata": {},
   "outputs": [
    {
     "name": "stdout",
     "output_type": "stream",
     "text": [
      "Found 8000 images belonging to 2 classes.\n",
      "Found 2000 images belonging to 2 classes.\n",
      "Epoch 1/25\n",
      "8000/8000 [==============================] - 1847s 231ms/step - loss: 0.3561 - accuracy: 0.8353 - val_loss: 0.6650 - val_accuracy: 0.8081\n",
      "Epoch 2/25\n",
      "8000/8000 [==============================] - 1602s 200ms/step - loss: 0.1080 - accuracy: 0.9588 - val_loss: 0.4803 - val_accuracy: 0.8067\n",
      "Epoch 3/25\n",
      "8000/8000 [==============================] - 1602s 200ms/step - loss: 0.0533 - accuracy: 0.9808 - val_loss: 0.7543 - val_accuracy: 0.8093\n",
      "Epoch 4/25\n",
      "8000/8000 [==============================] - 1804s 225ms/step - loss: 0.0380 - accuracy: 0.9867 - val_loss: 0.7101 - val_accuracy: 0.8054\n",
      "Epoch 5/25\n",
      "8000/8000 [==============================] - 1837s 230ms/step - loss: 0.0313 - accuracy: 0.9892 - val_loss: 1.8328 - val_accuracy: 0.8125\n",
      "Epoch 6/25\n",
      "8000/8000 [==============================] - 1836s 229ms/step - loss: 0.0256 - accuracy: 0.9915 - val_loss: 2.7151 - val_accuracy: 0.8115\n",
      "Epoch 7/25\n",
      "8000/8000 [==============================] - 2517s 315ms/step - loss: 0.0231 - accuracy: 0.9924 - val_loss: 0.9319 - val_accuracy: 0.8136\n",
      "Epoch 8/25\n",
      "8000/8000 [==============================] - 2396s 299ms/step - loss: 0.0199 - accuracy: 0.9935 - val_loss: 0.5254 - val_accuracy: 0.8151\n",
      "Epoch 9/25\n",
      "8000/8000 [==============================] - 2028s 254ms/step - loss: 0.0177 - accuracy: 0.9941 - val_loss: 0.4207 - val_accuracy: 0.8054\n",
      "Epoch 10/25\n",
      "8000/8000 [==============================] - 2953s 369ms/step - loss: 0.0160 - accuracy: 0.9949 - val_loss: 3.8094 - val_accuracy: 0.8112\n",
      "Epoch 11/25\n",
      "8000/8000 [==============================] - 2220s 277ms/step - loss: 0.0151 - accuracy: 0.9953 - val_loss: 2.3516 - val_accuracy: 0.7985\n",
      "Epoch 12/25\n",
      "8000/8000 [==============================] - 1922s 240ms/step - loss: 0.0134 - accuracy: 0.9957 - val_loss: 1.6438 - val_accuracy: 0.8115\n",
      "Epoch 13/25\n",
      "8000/8000 [==============================] - 2066s 258ms/step - loss: 0.0130 - accuracy: 0.9960 - val_loss: 1.1898 - val_accuracy: 0.7934\n",
      "Epoch 14/25\n",
      "8000/8000 [==============================] - 1949s 244ms/step - loss: 0.0119 - accuracy: 0.9961 - val_loss: 0.3198 - val_accuracy: 0.8021\n",
      "Epoch 15/25\n",
      "8000/8000 [==============================] - 1838s 230ms/step - loss: 0.0111 - accuracy: 0.9964 - val_loss: 2.0265 - val_accuracy: 0.7970\n",
      "Epoch 16/25\n",
      "8000/8000 [==============================] - 2144s 268ms/step - loss: 0.0105 - accuracy: 0.9968 - val_loss: 0.9528 - val_accuracy: 0.7974\n",
      "Epoch 17/25\n",
      "8000/8000 [==============================] - 2118s 265ms/step - loss: 0.0102 - accuracy: 0.9967 - val_loss: 1.8201 - val_accuracy: 0.8090\n",
      "Epoch 18/25\n",
      "6930/8000 [========================>.....] - ETA: 4:08 - loss: 0.0093 - accuracy: 0.9971"
     ]
    }
   ],
   "source": [
    "train_datagen = ImageDataGenerator(rescale = 1./255,\n",
    "                                   shear_range = 0.2,\n",
    "                                   zoom_range = 0.2,\n",
    "                                   horizontal_flip = True)\n",
    "\n",
    "test_datagen = ImageDataGenerator(rescale = 1./255)\n",
    "\n",
    "training_set = train_datagen.flow_from_directory('training_set',\n",
    "                                                 target_size = (64, 64),\n",
    "                                                 batch_size = 32,\n",
    "                                                 class_mode = 'binary')\n",
    "\n",
    "test_set = test_datagen.flow_from_directory('test_set',\n",
    "                                            target_size = (64, 64),\n",
    "                                            batch_size = 32,\n",
    "                                            class_mode = 'binary')\n",
    "\n",
    "classifier.fit_generator(training_set,\n",
    "                         steps_per_epoch = 8000,\n",
    "                         epochs = 25,\n",
    "                         validation_data = test_set,\n",
    "                         validation_steps = 2000)"
   ]
  },
  {
   "cell_type": "code",
   "execution_count": 27,
   "metadata": {},
   "outputs": [
    {
     "data": {
      "text/plain": [
       "{'cats': 0, 'dogs': 1}"
      ]
     },
     "execution_count": 27,
     "metadata": {},
     "output_type": "execute_result"
    }
   ],
   "source": [
    "\n",
    "import numpy as np\n",
    "from keras.preprocessing import image\n",
    "test_image = image.load_img('cat_or_dog_1.jpg', target_size = (64, 64))\n",
    "test_image = image.img_to_array(test_image)\n",
    "test_image = np.expand_dims(test_image, axis = 0)\n",
    "result = classifier.predict(test_image)\n",
    "training_set.class_indices\n",
    "# if result[0][0] == 1:\n",
    "#     prediction = 'dog'\n",
    "# else:\n",
    "#     prediction = 'cat'"
   ]
  },
  {
   "cell_type": "code",
   "execution_count": null,
   "metadata": {},
   "outputs": [],
   "source": []
  },
  {
   "cell_type": "code",
   "execution_count": null,
   "metadata": {},
   "outputs": [],
   "source": []
  },
  {
   "cell_type": "code",
   "execution_count": null,
   "metadata": {},
   "outputs": [],
   "source": []
  },
  {
   "cell_type": "code",
   "execution_count": null,
   "metadata": {},
   "outputs": [],
   "source": []
  }
 ],
 "metadata": {
  "kernelspec": {
   "display_name": "Python 3",
   "language": "python",
   "name": "python3"
  },
  "language_info": {
   "codemirror_mode": {
    "name": "ipython",
    "version": 3
   },
   "file_extension": ".py",
   "mimetype": "text/x-python",
   "name": "python",
   "nbconvert_exporter": "python",
   "pygments_lexer": "ipython3",
   "version": "3.7.6"
  }
 },
 "nbformat": 4,
 "nbformat_minor": 2
}
